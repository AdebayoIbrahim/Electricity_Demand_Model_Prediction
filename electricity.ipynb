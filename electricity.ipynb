{
  "cells": [
    {
      "cell_type": "markdown",
      "metadata": {
        "id": "mYNtjrab9po2"
      },
      "source": [
        "# CAISO Electricity Demand Forecasting with LSTM"
      ]
    },
    {
      "cell_type": "code",
      "execution_count": null,
      "metadata": {
        "id": "O7M9T4Rc9po4"
      },
      "outputs": [],
      "source": [
        "# Import required packages\n",
        "import pandas as pd\n",
        "import numpy as np\n",
        "import torch\n",
        "import torch.nn as nn\n",
        "from sklearn.preprocessing import MinMaxScaler\n",
        "from torch.utils.data import DataLoader, TensorDataset\n",
        "\n",
        "# Mount Google Drive\n",
        "from google.colab import drive\n",
        "drive.mount('/content/drive')"
      ]
    },
    {
      "cell_type": "markdown",
      "metadata": {
        "id": "Jv4BizFt9po6"
      },
      "source": [
        "## Data Loading"
      ]
    },
    {
      "cell_type": "code",
      "execution_count": null,
      "metadata": {
        "id": "RP8whI089po6"
      },
      "outputs": [],
      "source": [
        "# Load dataset\n",
        "df = pd.read_csv(\"/content/drive/MyDrive/caiso-electricity.csv\")\n",
        "\n",
        "# Prepare timestamp\n",
        "df['timestamp'] = pd.to_datetime(df['UTC Timestamp (Interval Ending)'], errors='coerce')\n",
        "df.set_index('timestamp', inplace=True)\n",
        "\n",
        "# Display sample data\n",
        "df.head()"
      ]
    },
    {
      "cell_type": "markdown",
      "metadata": {
        "id": "8aoB2Xup9po6"
      },
      "source": [
        "## Model Definition"
      ]
    },
    {
      "cell_type": "code",
      "execution_count": null,
      "metadata": {
        "id": "KmC2ln8t9po7"
      },
      "outputs": [],
      "source": [
        "class LMP_LSTM_Multistep(nn.Module):\n",
        "    \"\"\"LSTM for multi-step electricity price forecasting\"\"\"\n",
        "    def __init__(self, input_size=1, hidden_size=64, num_layers=2, pred_len=16):\n",
        "        super().__init__()\n",
        "        self.lstm = nn.LSTM(input_size, hidden_size, num_layers, batch_first=True)\n",
        "        self.fc = nn.Linear(hidden_size, pred_len)\n",
        "\n",
        "    def forward(self, x):\n",
        "        out, _ = self.lstm(x)\n",
        "        out = self.fc(out[:, -1, :])\n",
        "        return out"
      ]
    },
    {
      "cell_type": "markdown",
      "metadata": {
        "id": "SYt3NI4u9po7"
      },
      "source": [
        "## Data Preparation"
      ]
    },
    {
      "cell_type": "code",
      "execution_count": 8,
      "metadata": {
        "id": "KKXUFV4i9po7"
      },
      "outputs": [],
      "source": [
        "def create_multistep_sequences(data, seq_length, pred_length):\n",
        "    \"\"\"Create input-output sequences for training\"\"\"\n",
        "    xs, ys = [], []\n",
        "    for i in range(len(data) - seq_length - pred_length):\n",
        "        x = data[i:i+seq_length]\n",
        "        y = data[i+seq_length:i+seq_length+pred_length]\n",
        "        xs.append(x)\n",
        "        ys.append(y)\n",
        "    return np.array(xs), np.array(ys)\n",
        "\n",
        "# Parameters\n",
        "zones = ['SP-15 LMP', 'NP-15 LMP', 'ZP26 LMP', 'PGE-TDLMP', 'SCE-TDLMP']\n",
        "SEQ_LEN = 24   # 6 hours of history (15-min intervals)\n",
        "PRED_LEN = 16  # 4 hours forecast\n",
        "EPOCHS = 30"
      ]
    },
    {
      "cell_type": "markdown",
      "metadata": {
        "id": "CKk8ylWi9po8"
      },
      "source": [
        "## Training Pipeline"
      ]
    },
    {
      "cell_type": "code",
      "execution_count": null,
      "metadata": {
        "colab": {
          "base_uri": "https://localhost:8080/"
        },
        "id": "fvV6bLn89po8",
        "outputId": "f4912998-3484-4636-aeb4-65880d2fd6a0"
      },
      "outputs": [
        {
          "output_type": "stream",
          "name": "stdout",
          "text": [
            "\n",
            "Processing SP-15 LMP\n",
            "Epoch 1/30, Loss: 0.0393\n",
            "Epoch 2/30, Loss: 0.0001\n",
            "Epoch 3/30, Loss: 0.0001\n",
            "Epoch 4/30, Loss: 0.0001\n",
            "Epoch 5/30, Loss: 0.0001\n",
            "Epoch 6/30, Loss: 0.0030\n",
            "Epoch 7/30, Loss: 0.0002\n",
            "Epoch 8/30, Loss: 0.0002\n",
            "Epoch 9/30, Loss: 0.0001\n",
            "Epoch 10/30, Loss: 0.0001\n",
            "Epoch 11/30, Loss: 0.0001\n",
            "Epoch 12/30, Loss: 0.0000\n",
            "Epoch 13/30, Loss: 0.0370\n",
            "Epoch 14/30, Loss: 0.0002\n",
            "Epoch 15/30, Loss: 0.0001\n",
            "Epoch 16/30, Loss: 0.0002\n",
            "Epoch 17/30, Loss: 0.0001\n",
            "Epoch 18/30, Loss: 0.0088\n",
            "Epoch 19/30, Loss: 0.0000\n",
            "Epoch 20/30, Loss: 0.0000\n",
            "Epoch 21/30, Loss: 0.0003\n",
            "Epoch 22/30, Loss: 0.0494\n",
            "Epoch 23/30, Loss: 0.0001\n",
            "Epoch 24/30, Loss: 0.0020\n",
            "Epoch 25/30, Loss: 0.0003\n",
            "Epoch 26/30, Loss: 0.0002\n",
            "Epoch 27/30, Loss: 0.0002\n",
            "Epoch 28/30, Loss: 0.0085\n",
            "Epoch 29/30, Loss: 0.0010\n",
            "Epoch 30/30, Loss: 0.0019\n",
            "\n",
            "Processing NP-15 LMP\n"
          ]
        },
        {
          "output_type": "stream",
          "name": "stderr",
          "text": [
            "<ipython-input-9-d12961fd7ef6>:46: FutureWarning: 'T' is deprecated and will be removed in a future version, please use 'min' instead.\n",
            "  future_times = pd.date_range(start=zone_data.index[-1], periods=PRED_LEN + 1, freq='15T')[1:]\n"
          ]
        },
        {
          "output_type": "stream",
          "name": "stdout",
          "text": [
            "Epoch 1/30, Loss: 0.0039\n",
            "Epoch 2/30, Loss: 0.0002\n",
            "Epoch 3/30, Loss: 0.0001\n",
            "Epoch 4/30, Loss: 0.0004\n",
            "Epoch 5/30, Loss: 0.0004\n",
            "Epoch 6/30, Loss: 0.0016\n",
            "Epoch 7/30, Loss: 0.0003\n",
            "Epoch 8/30, Loss: 0.0003\n",
            "Epoch 9/30, Loss: 0.0002\n",
            "Epoch 10/30, Loss: 0.0002\n",
            "Epoch 11/30, Loss: 0.0009\n",
            "Epoch 12/30, Loss: 0.0005\n",
            "Epoch 13/30, Loss: 0.0006\n",
            "Epoch 14/30, Loss: 0.0001\n",
            "Epoch 15/30, Loss: 0.0001\n",
            "Epoch 16/30, Loss: 0.0002\n",
            "Epoch 17/30, Loss: 0.0001\n",
            "Epoch 18/30, Loss: 0.0001\n",
            "Epoch 19/30, Loss: 0.0036\n",
            "Epoch 20/30, Loss: 0.0002\n",
            "Epoch 21/30, Loss: 0.0002\n",
            "Epoch 22/30, Loss: 0.0001\n",
            "Epoch 23/30, Loss: 0.0001\n",
            "Epoch 24/30, Loss: 0.0006\n"
          ]
        }
      ],
      "source": [
        "all_results = []\n",
        "\n",
        "for zone in zones:\n",
        "    if zone not in df.columns:\n",
        "        print(f\"Skipping {zone} - not found\")\n",
        "        continue\n",
        "\n",
        "    print(f\"\\nProcessing {zone}\")\n",
        "\n",
        "    # 1. Prepare data\n",
        "    zone_data = df[[zone]].dropna()\n",
        "    scaler = MinMaxScaler()\n",
        "    data_scaled = scaler.fit_transform(zone_data)\n",
        "\n",
        "    # 2. Create sequences\n",
        "    X, y = create_multistep_sequences(data_scaled, SEQ_LEN, PRED_LEN)\n",
        "    X_tensor = torch.tensor(X, dtype=torch.float32)\n",
        "    y_tensor = torch.tensor(y.squeeze(), dtype=torch.float32)\n",
        "\n",
        "    # 3. Create DataLoader\n",
        "    dataset = TensorDataset(X_tensor, y_tensor)\n",
        "    train_loader = DataLoader(dataset, batch_size=64, shuffle=True)\n",
        "\n",
        "    # 4. Train model\n",
        "    model = LMP_LSTM_Multistep(pred_len=PRED_LEN)\n",
        "    criterion = nn.MSELoss()\n",
        "    optimizer = torch.optim.Adam(model.parameters(), lr=0.001)\n",
        "\n",
        "    for epoch in range(EPOCHS):\n",
        "        for xb, yb in train_loader:\n",
        "            optimizer.zero_grad()\n",
        "            pred = model(xb)\n",
        "            loss = criterion(pred, yb)\n",
        "            loss.backward()\n",
        "            optimizer.step()\n",
        "        print(f\"Epoch {epoch+1}/{EPOCHS}, Loss: {loss.item():.4f}\")\n",
        "\n",
        "    # 5. Make predictions\n",
        "    model.eval()\n",
        "    with torch.no_grad():\n",
        "        input_seq = torch.tensor(data_scaled[-SEQ_LEN:], dtype=torch.float32).unsqueeze(0)\n",
        "        pred_scaled = model(input_seq).numpy().flatten()\n",
        "        pred_actual = scaler.inverse_transform(pred_scaled.reshape(-1, 1)).flatten()\n",
        "\n",
        "    # 6. Store results\n",
        "    future_times = pd.date_range(start=zone_data.index[-1], periods=PRED_LEN + 1, freq='15T')[1:]\n",
        "    actual_vals = zone_data[-PRED_LEN:].values.flatten()\n",
        "\n",
        "    result_df = pd.DataFrame({\n",
        "        \"Zone\": [zone] * len(future_times),\n",
        "        \"Timestamp\": future_times,\n",
        "        \"Actual LMP\": actual_vals,\n",
        "        \"Predicted LMP\": pred_actual,\n",
        "        \"Error\": np.abs(pred_actual - actual_vals)\n",
        "    })\n",
        "    all_results.append(result_df)\n",
        "\n",
        "# Combine results\n",
        "final_results = pd.concat(all_results, ignore_index=True)\n",
        "final_results.head()"
      ]
    },
    {
      "cell_type": "markdown",
      "metadata": {
        "id": "lpPavBge9po8"
      },
      "source": [
        "## Visualization"
      ]
    },
    {
      "cell_type": "code",
      "execution_count": null,
      "metadata": {
        "id": "U0sWS4ZS9po9"
      },
      "outputs": [],
      "source": [
        "import matplotlib.pyplot as plt\n",
        "\n",
        "def plot_predictions(zone_name, results_df=final_results):\n",
        "    \"\"\"Plot actual vs predicted values\"\"\"\n",
        "    zone_data = results_df[results_df['Zone'] == zone_name]\n",
        "\n",
        "    plt.figure(figsize=(12, 5))\n",
        "    plt.plot(zone_data['Timestamp'], zone_data['Actual LMP'], 'b-', label='Actual')\n",
        "    plt.plot(zone_data['Timestamp'], zone_data['Predicted LMP'], 'r--', label='Predicted')\n",
        "    plt.title(f'{zone_name} Price Forecast')\n",
        "    plt.xlabel('Time')\n",
        "    plt.ylabel('Price ($)')\n",
        "    plt.legend()\n",
        "    plt.grid()\n",
        "    plt.show()\n",
        "\n",
        "# Example plot\n",
        "plot_predictions(zones[0])"
      ]
    }
  ],
  "metadata": {
    "colab": {
      "provenance": [],
      "toc_visible": true
    },
    "kernelspec": {
      "display_name": "Python 3",
      "name": "python3"
    },
    "language_info": {
      "name": "python"
    }
  },
  "nbformat": 4,
  "nbformat_minor": 0
}